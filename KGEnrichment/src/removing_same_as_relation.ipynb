{
 "cells": [
  {
   "cell_type": "code",
   "execution_count": 4,
   "metadata": {},
   "outputs": [],
   "source": [
    "from rdflib import Graph, RDF, OWL\n",
    "\n",
    "def remove_same_as_relations(input_file, output_file):\n",
    "    # Load the TTL file into an RDF graph\n",
    "    graph = Graph()\n",
    "    graph.parse(input_file, format='turtle')\n",
    "\n",
    "    # Iterate over each triple in the graph\n",
    "    for subj, pred, obj in graph:\n",
    "        # Check if the predicate is owl:sameAs\n",
    "        if pred == OWL.sameAs:\n",
    "            # Remove the triple if it asserts a sameAs relation\n",
    "            graph.remove((subj, pred, obj))\n",
    "\n",
    "    # Serialize the modified graph to TTL format and save it to the output file\n",
    "    graph.serialize(destination=output_file, format='turtle')\n",
    "\n",
    "# Example usage:\n",
    "#input_file = 'input.ttl'\n",
    "#output_file = 'output.ttl'\n",
    "#remove_same_as_relations(input_file, output_file)\n",
    "\n",
    "input_file = '../data_paper/dataset/updated_knowledge_graph_08122023.ttl'\n",
    "output_file = '../data_paper/dataset/updated_knowledge_graph_08122023_removed_same_as.ttl'\n",
    "remove_same_as_relations(input_file, output_file)\n"
   ]
  },
  {
   "cell_type": "code",
   "execution_count": null,
   "metadata": {},
   "outputs": [],
   "source": []
  }
 ],
 "metadata": {
  "kernelspec": {
   "display_name": "env",
   "language": "python",
   "name": "python3"
  },
  "language_info": {
   "codemirror_mode": {
    "name": "ipython",
    "version": 3
   },
   "file_extension": ".py",
   "mimetype": "text/x-python",
   "name": "python",
   "nbconvert_exporter": "python",
   "pygments_lexer": "ipython3",
   "version": "3.10.7"
  }
 },
 "nbformat": 4,
 "nbformat_minor": 2
}
